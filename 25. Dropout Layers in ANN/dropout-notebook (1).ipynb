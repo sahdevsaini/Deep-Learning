{
 "cells": [
  {
   "cell_type": "markdown",
   "metadata": {
    "colab": {},
    "colab_type": "code",
    "executionInfo": {
     "elapsed": 4559,
     "status": "ok",
     "timestamp": 1600696567939,
     "user": {
      "displayName": "Nitish Singh",
      "photoUrl": "https://lh3.googleusercontent.com/a-/AOh14GgsD-bEFSSQAb_5OYIU_Ra66nCg6YgWsCFgxpZLlw=s64",
      "userId": "06740764288798839139"
     },
     "user_tz": -330
    },
    "id": "3tFGgFKexKF1"
   },
   "source": [
    "# Regression Example of Dropout Layers"
   ]
  },
  {
   "cell_type": "markdown",
   "metadata": {},
   "source": [
    "### Importing Library "
   ]
  },
  {
   "cell_type": "code",
   "execution_count": 50,
   "metadata": {},
   "outputs": [],
   "source": [
    "import tensorflow as tf\n",
    "import numpy as np\n",
    "import pandas as pd\n",
    "import seaborn as sns\n",
    "import matplotlib.pyplot as plt\n",
    "from tensorflow.keras.models import Sequential\n",
    "from tensorflow.keras.layers import Dense\n",
    "from tensorflow.keras.layers import Dropout\n",
    "from tensorflow.keras.optimizers import Adam\n",
    "from sklearn.model_selection import train_test_split\n",
    "from sklearn.metrics import mean_squared_error"
   ]
  },
  {
   "cell_type": "code",
   "execution_count": 51,
   "metadata": {},
   "outputs": [],
   "source": [
    "#pip install tensorflow"
   ]
  },
  {
   "cell_type": "markdown",
   "metadata": {
    "colab_type": "text",
    "id": "hAEFOSC8fbQE"
   },
   "source": [
    "# Generate Data"
   ]
  },
  {
   "cell_type": "code",
   "execution_count": 52,
   "metadata": {
    "colab": {},
    "colab_type": "code",
    "executionInfo": {
     "elapsed": 2295,
     "status": "ok",
     "timestamp": 1600696574411,
     "user": {
      "displayName": "Nitish Singh",
      "photoUrl": "https://lh3.googleusercontent.com/a-/AOh14GgsD-bEFSSQAb_5OYIU_Ra66nCg6YgWsCFgxpZLlw=s64",
      "userId": "06740764288798839139"
     },
     "user_tz": -330
    },
    "id": "gWBfjx68OdDL"
   },
   "outputs": [],
   "source": [
    "X_train = np.linspace(-1, 1, 20)"
   ]
  },
  {
   "cell_type": "code",
   "execution_count": 53,
   "metadata": {
    "colab": {},
    "colab_type": "code",
    "executionInfo": {
     "elapsed": 2613,
     "status": "ok",
     "timestamp": 1600696577884,
     "user": {
      "displayName": "Nitish Singh",
      "photoUrl": "https://lh3.googleusercontent.com/a-/AOh14GgsD-bEFSSQAb_5OYIU_Ra66nCg6YgWsCFgxpZLlw=s64",
      "userId": "06740764288798839139"
     },
     "user_tz": -330
    },
    "id": "HHgAbMkwdqcJ"
   },
   "outputs": [],
   "source": [
    "y_train = np.array([-0.6561 , -0.3099 , -0.59035, -0.50855, -0.285  , \n",
    "                    -0.2443 , -0.02445,  0.00135, -0.2006 ,  0.07475, \n",
    "                    -0.1422 ,  0.06515,  0.15265,  0.3521 ,  0.28415,  \n",
    "                    0.5524 ,  0.23115,  0.20835, 0.4211,  0.60485])"
   ]
  },
  {
   "cell_type": "code",
   "execution_count": 54,
   "metadata": {
    "colab": {},
    "colab_type": "code",
    "executionInfo": {
     "elapsed": 1828,
     "status": "ok",
     "timestamp": 1600696580216,
     "user": {
      "displayName": "Nitish Singh",
      "photoUrl": "https://lh3.googleusercontent.com/a-/AOh14GgsD-bEFSSQAb_5OYIU_Ra66nCg6YgWsCFgxpZLlw=s64",
      "userId": "06740764288798839139"
     },
     "user_tz": -330
    },
    "id": "-3T0MiSMRU88"
   },
   "outputs": [],
   "source": [
    "X_test = np.linspace(-1, 1, 20)"
   ]
  },
  {
   "cell_type": "code",
   "execution_count": 55,
   "metadata": {
    "colab": {},
    "colab_type": "code",
    "executionInfo": {
     "elapsed": 1449,
     "status": "ok",
     "timestamp": 1600696582870,
     "user": {
      "displayName": "Nitish Singh",
      "photoUrl": "https://lh3.googleusercontent.com/a-/AOh14GgsD-bEFSSQAb_5OYIU_Ra66nCg6YgWsCFgxpZLlw=s64",
      "userId": "06740764288798839139"
     },
     "user_tz": -330
    },
    "id": "T13ENwBmRVAC"
   },
   "outputs": [],
   "source": [
    "y_test = np.array([-0.69415, -0.451  , -0.43005, -0.4484 , -0.1475 ,\n",
    "                   -0.5019 , -0.28055,  0.24595, -0.21425, -0.0286 ,  \n",
    "                   0.23415,  0.46575, 0.07955,  0.1973 ,  0.0719 ,\n",
    "                   0.3639 ,  0.5536 ,  0.3365 , 0.50705,  0.33435])"
   ]
  },
  {
   "cell_type": "code",
   "execution_count": 56,
   "metadata": {
    "colab": {
     "base_uri": "https://localhost:8080/",
     "height": 265
    },
    "colab_type": "code",
    "executionInfo": {
     "elapsed": 1343,
     "status": "ok",
     "timestamp": 1600696587081,
     "user": {
      "displayName": "Nitish Singh",
      "photoUrl": "https://lh3.googleusercontent.com/a-/AOh14GgsD-bEFSSQAb_5OYIU_Ra66nCg6YgWsCFgxpZLlw=s64",
      "userId": "06740764288798839139"
     },
     "user_tz": -330
    },
    "id": "XeLcH4EeRVFk",
    "outputId": "dedd82e5-8f15-422f-e2fe-f7324574e6b1"
   },
   "outputs": [
    {
     "data": {
      "image/png": "[encoded data removed]",
      "text/plain": [
       "<Figure size 640x480 with 1 Axes>"
      ]
     },
     "metadata": {},
     "output_type": "display_data"
    }
   ],
   "source": [
    "plt.scatter(X_train, y_train, c='red', label='Train')\n",
    "plt.scatter(X_test, y_test, c='blue', label='Test')\n",
    "plt.legend()\n",
    "plt.show()"
   ]
  },
  {
   "cell_type": "markdown",
   "metadata": {
    "colab_type": "text",
    "id": "shGA9BPVfJur"
   },
   "source": [
    "# Regression Model"
   ]
  },
  {
   "cell_type": "markdown",
   "metadata": {},
   "source": [
    "### Model Creation"
   ]
  },
  {
   "cell_type": "code",
   "execution_count": 57,
   "metadata": {
    "colab": {},
    "colab_type": "code",
    "executionInfo": {
     "elapsed": 18994,
     "status": "ok",
     "timestamp": 1600696614851,
     "user": {
      "displayName": "Nitish Singh",
      "photoUrl": "https://lh3.googleusercontent.com/a-/AOh14GgsD-bEFSSQAb_5OYIU_Ra66nCg6YgWsCFgxpZLlw=s64",
      "userId": "06740764288798839139"
     },
     "user_tz": -330
    },
    "id": "VFNJfoqXSZ3A"
   },
   "outputs": [
    {
     "name": "stderr",
     "output_type": "stream",
     "text": [
      "/opt/conda/lib/python3.10/site-packages/keras/src/layers/core/dense.py:87: UserWarning: Do not pass an `input_shape`/`input_dim` argument to a layer. When using Sequential models, prefer using an `Input(shape)` object as the first layer in the model instead.\n",
      "  super().__init__(activity_regularizer=activity_regularizer, **kwargs)\n"
     ]
    }
   ],
   "source": [
    "model_1 = Sequential()    # Define a Sequential model\n",
    "\n",
    "# Input layer:\n",
    "# - Dense layer with 128 neurons.\n",
    "# - 'input_dim=1' indicates that the input data has one feature.\n",
    "# - 'activation=\"relu\"' applies the ReLU activation function to introduce non-linearity.\n",
    "model_1.add(Dense(128, input_dim=1, activation=\"relu\"))\n",
    "\n",
    "# Hidden layer:\n",
    "# - Dense layer with 128 neurons.\n",
    "# - 'activation=\"relu\"' applies the ReLU activation function to introduce non-linearity.\n",
    "# - This layer helps the model to learn complex patterns from the input data.\n",
    "model_1.add(Dense(128, activation=\"relu\"))\n",
    "\n",
    "# Output layer:\n",
    "# - Dense layer with 1 neuron.\n",
    "# - 'activation=\"linear\"' applies a linear activation function.\n",
    "# - This layer outputs the final prediction, suitable for regression tasks where the output is a continuous value.\n",
    "model_1.add(Dense(1, activation=\"linear\"))\n",
    "\n",
    "# Print the model summary to view the architecture and parameters\n",
    "# model_1.summary()"
   ]
  },
  {
   "cell_type": "markdown",
   "metadata": {},
   "source": [
    "### Model Complication"
   ]
  },
  {
   "cell_type": "code",
   "execution_count": 58,
   "metadata": {},
   "outputs": [],
   "source": [
    "# Initialize the Adam optimizer with a specified learning rate\n",
    "# - 'learning_rate=0.01' sets the step size for each iteration during training.\n",
    "adam = Adam(learning_rate=0.01)\n",
    "\n",
    "# Compile the model\n",
    "# - 'loss='mse'' specifies that Mean Squared Error (MSE) will be used as the loss function.\n",
    "#   MSE is commonly used for regression tasks to measure the average squared difference between predicted and actual values.\n",
    "# - 'optimizer=adam' sets the optimizer to the Adam optimizer, which adapts the learning rate and helps in efficient convergence.\n",
    "# - 'metrics=['mse']' specifies that Mean Squared Error will also be tracked as a performance metric during training and evaluation.\n",
    "model_1.compile(loss='mse', optimizer=adam, metrics=['mse'])"
   ]
  },
  {
   "cell_type": "markdown",
   "metadata": {},
   "source": [
    "### Model Training "
   ]
  },
  {
   "cell_type": "code",
   "execution_count": 59,
   "metadata": {},
   "outputs": [],
   "source": [
    "# Train the model\n",
    "# - 'X_train': The training input data.\n",
    "# - 'y_train': The target values corresponding to the training data.\n",
    "# - 'epochs=500': Specifies the number of times the entire dataset is passed through the model during training.\n",
    "# - 'validation_data=(X_test, y_test)': Provides validation data to evaluate the model's performance on unseen data after each epoch.\n",
    "#   This helps to monitor overfitting and ensure that the model generalizes well to new data.\n",
    "# - 'verbose=False': Suppresses the progress output during training. Set to '1' or '2' to see more detailed training progress information.\n",
    "history = model_1.fit(X_train, y_train, epochs=500, \n",
    "                      validation_data=(X_test, y_test),\n",
    "                      verbose=False)\n"
   ]
  },
  {
   "cell_type": "markdown",
   "metadata": {},
   "source": [
    "### Evaluate the model"
   ]
  },
  {
   "cell_type": "code",
   "execution_count": 62,
   "metadata": {
    "colab": {
     "base_uri": "https://localhost:8080/",
     "height": 34
    },
    "colab_type": "code",
    "executionInfo": {
     "elapsed": 1453,
     "status": "ok",
     "timestamp": 1600696624268,
     "user": {
      "displayName": "Nitish Singh",
      "photoUrl": "https://lh3.googleusercontent.com/a-/AOh14GgsD-bEFSSQAb_5OYIU_Ra66nCg6YgWsCFgxpZLlw=s64",
      "userId": "06740764288798839139"
     },
     "user_tz": -330
    },
    "id": "l5b0Udf8VcB6",
    "outputId": "9efb79e7-6e47-4f6c-aa0f-ecb43eac71a8"
   },
   "outputs": [
    {
     "name": "stdout",
     "output_type": "stream",
     "text": [
      "Error on Training : 0.004030259326100349, Error on Testing: 0.04500780254602432\n"
     ]
    }
   ],
   "source": [
    "_, train_mse = model_1.evaluate(X_train, y_train, verbose=0)\n",
    "_, test_mse = model_1.evaluate(X_test, y_test, verbose=0)\n",
    "print('Error on Training : {}, Error on Testing: {}'.format(train_mse, test_mse))"
   ]
  },
  {
   "cell_type": "markdown",
   "metadata": {},
   "source": [
    "### Loss & Accuracy of model"
   ]
  },
  {
   "cell_type": "code",
   "execution_count": 63,
   "metadata": {},
   "outputs": [
    {
     "name": "stdout",
     "output_type": "stream",
     "text": [
      "Loss: 0.04500780254602432\n",
      "Accuracy: 4.500780254602432\n"
     ]
    }
   ],
   "source": [
    "# Evaluate the model on the test data\n",
    "loss, accuracy = model_1.evaluate(X_test, y_test, verbose=0)\n",
    "\n",
    "# Print the loss and accuracy\n",
    "print(f\"Loss: {loss}\")\n",
    "print(f\"Accuracy: {accuracy*100}\")\n"
   ]
  },
  {
   "cell_type": "code",
   "execution_count": 13,
   "metadata": {
    "colab": {},
    "colab_type": "code",
    "executionInfo": {
     "elapsed": 2296,
     "status": "ok",
     "timestamp": 1600696643068,
     "user": {
      "displayName": "Nitish Singh",
      "photoUrl": "https://lh3.googleusercontent.com/a-/AOh14GgsD-bEFSSQAb_5OYIU_Ra66nCg6YgWsCFgxpZLlw=s64",
      "userId": "06740764288798839139"
     },
     "user_tz": -330
    },
    "id": "0ucuCQDuWA8S"
   },
   "outputs": [
    {
     "name": "stdout",
     "output_type": "stream",
     "text": [
      "\u001b[1m1/1\u001b[0m \u001b[32m━━━━━━━━━━━━━━━━━━━━\u001b[0m\u001b[37m\u001b[0m \u001b[1m0s\u001b[0m 62ms/step\n"
     ]
    }
   ],
   "source": [
    "y_pred_1 = model_1.predict(X_test)"
   ]
  },
  {
   "cell_type": "code",
   "execution_count": 14,
   "metadata": {
    "colab": {
     "base_uri": "https://localhost:8080/",
     "height": 269
    },
    "colab_type": "code",
    "executionInfo": {
     "elapsed": 1452,
     "status": "ok",
     "timestamp": 1600696651365,
     "user": {
      "displayName": "Nitish Singh",
      "photoUrl": "https://lh3.googleusercontent.com/a-/AOh14GgsD-bEFSSQAb_5OYIU_Ra66nCg6YgWsCFgxpZLlw=s64",
      "userId": "06740764288798839139"
     },
     "user_tz": -330
    },
    "id": "zwWmKGgeWTrf",
    "outputId": "199276a6-326f-4cc7-b156-4382f8f5918c"
   },
   "outputs": [
    {
     "data": {
      "image/png": "[encoded data removed]",
      "text/plain": [
       "<Figure size 640x480 with 1 Axes>"
      ]
     },
     "metadata": {},
     "output_type": "display_data"
    }
   ],
   "source": [
    "plt.figure()\n",
    "plt.scatter(X_train, y_train, c='red', label='Train')\n",
    "plt.scatter(X_test, y_test, c='blue', label='Test')\n",
    "plt.plot(X_test, y_pred_1)\n",
    "plt.legend()\n",
    "plt.ylim((-1.5, 1.5))\n",
    "plt.show()"
   ]
  },
  {
   "cell_type": "code",
   "execution_count": 64,
   "metadata": {},
   "outputs": [
    {
     "data": {
      "text/plain": [
       "[<matplotlib.lines.Line2D at 0x73232c4a9300>]"
      ]
     },
     "execution_count": 64,
     "metadata": {},
     "output_type": "execute_result"
    },
    {
     "data": {
      "image/png": "[encoded data removed]",
      "text/plain": [
       "<Figure size 640x480 with 1 Axes>"
      ]
     },
     "metadata": {},
     "output_type": "display_data"
    }
   ],
   "source": [
    "plt.plot(history.history['loss'])\n",
    "plt.plot(history.history['val_loss'])"
   ]
  },
  {
   "cell_type": "markdown",
   "metadata": {
    "colab_type": "text",
    "id": "jrbM_1AZezz_"
   },
   "source": [
    "# Dropout Model"
   ]
  },
  {
   "cell_type": "code",
   "execution_count": 65,
   "metadata": {
    "colab": {},
    "colab_type": "code",
    "executionInfo": {
     "elapsed": 13060,
     "status": "ok",
     "timestamp": 1600696819306,
     "user": {
      "displayName": "Nitish Singh",
      "photoUrl": "https://lh3.googleusercontent.com/a-/AOh14GgsD-bEFSSQAb_5OYIU_Ra66nCg6YgWsCFgxpZLlw=s64",
      "userId": "06740764288798839139"
     },
     "user_tz": -330
    },
    "id": "_vOPbuYHSlZm"
   },
   "outputs": [],
   "source": [
    "# Define the model with dropout layers\n",
    "model_2 = Sequential()\n",
    "\n",
    "# Input layer:\n",
    "# - Dense layer with 128 neurons.\n",
    "# - 'input_dim=1' indicates that the input data has one feature.\n",
    "# - 'activation=\"relu\"' applies the ReLU activation function.\n",
    "model_2.add(Dense(128, input_dim=1, activation=\"relu\"))\n",
    "\n",
    "# Dropout layer:\n",
    "# - Dropout layer with a rate of 0.2 (20%).\n",
    "# - Helps to prevent overfitting by randomly setting 20% of the neurons to zero during each training epoch.\n",
    "model_2.add(Dropout(0.5))\n",
    "\n",
    "# Hidden layer:\n",
    "# - Dense layer with 128 neurons.\n",
    "# - 'activation=\"relu\"' applies the ReLU activation function.\n",
    "model_2.add(Dense(128, activation=\"relu\"))\n",
    "\n",
    "# Dropout layer:\n",
    "# - Dropout layer with a rate of 0.2 (20%).\n",
    "# - Helps to further prevent overfitting by randomly setting 20% of the neurons to zero during each training epoch.\n",
    "model_2.add(Dropout(0.5))\n",
    "\n",
    "# Output layer:\n",
    "# - Dense layer with 1 neuron.\n",
    "# - 'activation=\"linear\"' applies a linear activation function.\n",
    "# - This layer outputs the final prediction for regression tasks.\n",
    "model_2.add(Dense(1, activation=\"linear\"))"
   ]
  },
  {
   "cell_type": "markdown",
   "metadata": {},
   "source": [
    "### Model Complication"
   ]
  },
  {
   "cell_type": "code",
   "execution_count": 66,
   "metadata": {},
   "outputs": [],
   "source": [
    "# Initialize the Adam optimizer with a specified learning rate\n",
    "# - 'learning_rate=0.01' sets the step size for each iteration during training.\n",
    "adam = Adam(learning_rate=0.01)\n",
    "\n",
    "# Compile the model\n",
    "# - 'loss='mse'' specifies Mean Squared Error as the loss function for regression tasks.\n",
    "# - 'optimizer=adam' sets the optimizer to Adam, which adapts the learning rate for efficient training.\n",
    "# - 'metrics=['mse']' specifies that Mean Squared Error will be tracked as a performance metric.\n",
    "model_2.compile(loss='mse', optimizer=adam, metrics=['mse'])"
   ]
  },
  {
   "cell_type": "markdown",
   "metadata": {},
   "source": [
    "### Model Tarining "
   ]
  },
  {
   "cell_type": "code",
   "execution_count": 67,
   "metadata": {},
   "outputs": [],
   "source": [
    "# Train the model\n",
    "# - 'X_train': The training input data.\n",
    "# - 'y_train': The target values for the training data.\n",
    "# - 'epochs=500': The number of times the entire dataset is passed through the model during training.\n",
    "# - 'validation_data=(X_test, y_test)': Provides validation data to evaluate the model's performance on unseen data.\n",
    "# - 'verbose=False': Suppresses the progress output during training.\n",
    "drop_out_history = model_2.fit(X_train, y_train, epochs=500, \n",
    "                               validation_data=(X_test, y_test),\n",
    "                               verbose=False)"
   ]
  },
  {
   "cell_type": "code",
   "execution_count": 74,
   "metadata": {
    "colab": {
     "base_uri": "https://localhost:8080/",
     "height": 34
    },
    "colab_type": "code",
    "executionInfo": {
     "elapsed": 1307,
     "status": "ok",
     "timestamp": 1600696824945,
     "user": {
      "displayName": "Nitish Singh",
      "photoUrl": "https://lh3.googleusercontent.com/a-/AOh14GgsD-bEFSSQAb_5OYIU_Ra66nCg6YgWsCFgxpZLlw=s64",
      "userId": "06740764288798839139"
     },
     "user_tz": -330
    },
    "id": "s0rofVLkSZ62",
    "outputId": "3850231d-35a3-4a36-e0b4-a910907b7fbb"
   },
   "outputs": [
    {
     "name": "stdout",
     "output_type": "stream",
     "text": [
      "Train: 0.014764562249183655, Test: 0.039006877690553665\n"
     ]
    }
   ],
   "source": [
    "# evaluate the model\n",
    "_, drop_train_mse = model_2.evaluate(X_train, y_train, verbose=0)\n",
    "_, drop_test_mse = model_2.evaluate(X_test, y_test, verbose=0)\n",
    "print('Train: {}, Test: {}'.format(drop_train_mse, drop_test_mse))"
   ]
  },
  {
   "cell_type": "markdown",
   "metadata": {},
   "source": [
    "### Comparsion of Test & Train loss with or without Using Dropout"
   ]
  },
  {
   "cell_type": "code",
   "execution_count": 86,
   "metadata": {},
   "outputs": [
    {
     "data": {
      "image/png": "[encoded data removed]",
      "text/plain": [
       "<Figure size 1000x600 with 2 Axes>"
      ]
     },
     "metadata": {},
     "output_type": "display_data"
    }
   ],
   "source": [
    "\n",
    "# Create DataFrames for Loss and Accuracy\n",
    "data_loss = {\n",
    "    'Model': ['Without Dropout', 'With Dropout'],\n",
    "    'Loss': [train_mse, drop_train_mse]\n",
    "}\n",
    "\n",
    "data_accuracy = {\n",
    "    'Model': ['Without Dropout', 'With Dropout'],\n",
    "    'Accuracy': [test_mse, drop_test_mse]\n",
    "}\n",
    "\n",
    "df_loss = pd.DataFrame(data_loss)\n",
    "df_accuracy = pd.DataFrame(data_accuracy)\n",
    "\n",
    "# Plot Loss\n",
    "plt.figure(figsize=(10, 6))\n",
    "\n",
    "plt.subplot(1, 2, 1)  # 1 row, 2 columns, 1st subplot\n",
    "sns.barplot(x='Model', y='Loss', data=df_loss, palette='Blues')\n",
    "plt.title('Loss with Training data ')\n",
    "plt.ylabel('Loss Value')\n",
    "plt.ylim(0, max(train_mse, drop_train_mse) * 1.2)  # Adjusting the y-axis limit for better visualization\n",
    "\n",
    "# Plot Accuracy\n",
    "plt.subplot(1, 2, 2)  # 1 row, 2 columns, 2nd subplot\n",
    "sns.barplot(x='Model', y='Accuracy', data=df_accuracy, palette='Oranges')\n",
    "plt.title('Loss with Testing Data')\n",
    "plt.ylabel('Loss Value')\n",
    "plt.ylim(0, max(test_mse, drop_test_mse) * 1.2)  # Adjusting the y-axis limit for better visualization\n",
    "\n",
    "# Adjust layout\n",
    "plt.tight_layout()\n",
    "plt.show()\n"
   ]
  },
  {
   "cell_type": "code",
   "execution_count": 79,
   "metadata": {},
   "outputs": [
    {
     "name": "stdout",
     "output_type": "stream",
     "text": [
      "Loss: 0.039006877690553665\n",
      "Accuracy: 3.9006877690553665\n"
     ]
    }
   ],
   "source": [
    "# Evaluate the model on the test data\n",
    "drop_loss, drop_accuracy = model_2.evaluate(X_test, y_test, verbose=0)\n",
    "\n",
    "# Print the loss and accuracy\n",
    "print(f\"Loss: {drop_loss}\")\n",
    "print(f\"Accuracy: {drop_accuracy*100}\")\n"
   ]
  },
  {
   "cell_type": "code",
   "execution_count": 45,
   "metadata": {
    "colab": {},
    "colab_type": "code",
    "executionInfo": {
     "elapsed": 1328,
     "status": "ok",
     "timestamp": 1600696834930,
     "user": {
      "displayName": "Nitish Singh",
      "photoUrl": "https://lh3.googleusercontent.com/a-/AOh14GgsD-bEFSSQAb_5OYIU_Ra66nCg6YgWsCFgxpZLlw=s64",
      "userId": "06740764288798839139"
     },
     "user_tz": -330
    },
    "id": "EtA4Oj8zV1HU"
   },
   "outputs": [
    {
     "name": "stdout",
     "output_type": "stream",
     "text": [
      "\u001b[1m1/1\u001b[0m \u001b[32m━━━━━━━━━━━━━━━━━━━━\u001b[0m\u001b[37m\u001b[0m \u001b[1m0s\u001b[0m 70ms/step\n"
     ]
    }
   ],
   "source": [
    "y_pred_2 = model_2.predict(X_test)"
   ]
  },
  {
   "cell_type": "code",
   "execution_count": 46,
   "metadata": {
    "colab": {
     "base_uri": "https://localhost:8080/",
     "height": 269
    },
    "colab_type": "code",
    "executionInfo": {
     "elapsed": 1295,
     "status": "ok",
     "timestamp": 1600696840494,
     "user": {
      "displayName": "Nitish Singh",
      "photoUrl": "https://lh3.googleusercontent.com/a-/AOh14GgsD-bEFSSQAb_5OYIU_Ra66nCg6YgWsCFgxpZLlw=s64",
      "userId": "06740764288798839139"
     },
     "user_tz": -330
    },
    "id": "Lkk2Nf3eV1Kx",
    "outputId": "dbc28816-2af8-436e-a005-bcc8decf9afe"
   },
   "outputs": [
    {
     "data": {
      "image/png": "[encoded data removed]",
      "text/plain": [
       "<Figure size 640x480 with 1 Axes>"
      ]
     },
     "metadata": {},
     "output_type": "display_data"
    }
   ],
   "source": [
    "plt.figure()\n",
    "plt.scatter(X_train, y_train, c='red', label='Train')\n",
    "plt.scatter(X_test, y_test, c='blue', label='Test')\n",
    "plt.plot(X_test, y_pred_2)\n",
    "plt.legend()\n",
    "plt.ylim((-1.5, 1.5))\n",
    "plt.show()"
   ]
  },
  {
   "cell_type": "code",
   "execution_count": null,
   "metadata": {},
   "outputs": [],
   "source": []
  }
 ],
 "metadata": {
  "accelerator": "GPU",
  "colab": {
   "collapsed_sections": [],
   "name": "dropout-notebook.ipynb",
   "provenance": []
  },
  "kernelspec": {
   "display_name": "Python 3 (ipykernel)",
   "language": "python",
   "name": "python3"
  },
  "language_info": {
   "codemirror_mode": {
    "name": "ipython",
    "version": 3
   },
   "file_extension": ".py",
   "mimetype": "text/x-python",
   "name": "python",
   "nbconvert_exporter": "python",
   "pygments_lexer": "ipython3",
   "version": "3.10.8"
  }
 },
 "nbformat": 4,
 "nbformat_minor": 4
}
